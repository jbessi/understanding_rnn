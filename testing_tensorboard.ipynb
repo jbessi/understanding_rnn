{
 "cells": [
  {
   "cell_type": "code",
   "execution_count": 3,
   "metadata": {},
   "outputs": [
    {
     "name": "stdout",
     "output_type": "stream",
     "text": [
      "WARNING:tensorflow:From /home/joel/anaconda3/lib/python3.7/site-packages/tensorflow/python/framework/op_def_library.py:263: colocate_with (from tensorflow.python.framework.ops) is deprecated and will be removed in a future version.\n",
      "Instructions for updating:\n",
      "Colocations handled automatically by placer.\n",
      "WARNING:tensorflow:From /home/joel/anaconda3/lib/python3.7/site-packages/keras/backend/tensorflow_backend.py:1154: calling reduce_max_v1 (from tensorflow.python.ops.math_ops) with keep_dims is deprecated and will be removed in a future version.\n",
      "Instructions for updating:\n",
      "keep_dims is deprecated, use keepdims instead\n",
      "_________________________________________________________________\n",
      "Layer (type)                 Output Shape              Param #   \n",
      "=================================================================\n",
      "embed (Embedding)            (None, 500, 128)          256000    \n",
      "_________________________________________________________________\n",
      "conv1d_1 (Conv1D)            (None, 494, 32)           28704     \n",
      "_________________________________________________________________\n",
      "max_pooling1d_1 (MaxPooling1 (None, 98, 32)            0         \n",
      "_________________________________________________________________\n",
      "conv1d_2 (Conv1D)            (None, 92, 32)            7200      \n",
      "_________________________________________________________________\n",
      "global_max_pooling1d_1 (Glob (None, 32)                0         \n",
      "_________________________________________________________________\n",
      "dense_1 (Dense)              (None, 1)                 33        \n",
      "=================================================================\n",
      "Total params: 291,937\n",
      "Trainable params: 291,937\n",
      "Non-trainable params: 0\n",
      "_________________________________________________________________\n"
     ]
    }
   ],
   "source": [
    "# testing tensorboard\n",
    "\n",
    "import keras\n",
    "from keras import layers\n",
    "from keras.datasets import imdb\n",
    "from keras.preprocessing import sequence\n",
    "\n",
    "max_features = 2000\n",
    "max_len = 500\n",
    "\n",
    "(x_train, y_train), (x_test, y_test) = imdb.load_data(num_words=max_features)\n",
    "x_train = sequence.pad_sequences(x_train, maxlen=max_len)\n",
    "x_test = sequence.pad_sequences(x_test, maxlen=max_len)\n",
    "\n",
    "model = keras.models.Sequential()\n",
    "model.add(layers.Embedding(max_features, 128, input_length=max_len, name ='embed'))\n",
    "model.add(layers.Conv1D(32, 7, activation='relu'))\n",
    "model.add(layers.MaxPooling1D(5))\n",
    "model.add(layers.Conv1D(32, 7, activation='relu'))\n",
    "model.add(layers.GlobalMaxPooling1D())\n",
    "model.add(layers.Dense(1))\n",
    "\n",
    "model.summary()\n",
    "\n",
    "model.compile(optimizer='rmsprop',\n",
    "              loss='binary_crossentropy',\n",
    "              metrics=['acc'])"
   ]
  },
  {
   "cell_type": "code",
   "execution_count": 4,
   "metadata": {},
   "outputs": [
    {
     "name": "stdout",
     "output_type": "stream",
     "text": [
      "WARNING:tensorflow:From /home/joel/anaconda3/lib/python3.7/site-packages/tensorflow/python/ops/math_ops.py:3066: to_int32 (from tensorflow.python.ops.math_ops) is deprecated and will be removed in a future version.\n",
      "Instructions for updating:\n",
      "Use tf.cast instead.\n",
      "WARNING:tensorflow:From /home/joel/anaconda3/lib/python3.7/site-packages/tensorflow/python/ops/math_grad.py:102: div (from tensorflow.python.ops.math_ops) is deprecated and will be removed in a future version.\n",
      "Instructions for updating:\n",
      "Deprecated in favor of operator or tf.math.divide.\n",
      "Train on 20000 samples, validate on 5000 samples\n",
      "Epoch 1/20\n",
      "20000/20000 [==============================] - 89s - loss: 0.5792 - acc: 0.6976 - val_loss: 0.4363 - val_acc: 0.8204\n",
      "Epoch 2/20\n",
      "20000/20000 [==============================] - 88s - loss: 0.4437 - acc: 0.8041 - val_loss: 0.4304 - val_acc: 0.8132\n",
      "Epoch 3/20\n",
      "20000/20000 [==============================] - 87s - loss: 0.4240 - acc: 0.7758 - val_loss: 0.4853 - val_acc: 0.7860\n",
      "Epoch 4/20\n",
      "20000/20000 [==============================] - 102s - loss: 0.3417 - acc: 0.7799 - val_loss: 0.5316 - val_acc: 0.7566\n",
      "Epoch 5/20\n",
      "20000/20000 [==============================] - 90s - loss: 0.2961 - acc: 0.7364 - val_loss: 0.7465 - val_acc: 0.6282\n",
      "Epoch 6/20\n",
      "19968/20000 [============================>.] - ETA: 0s - loss: 0.2533 - acc: 0.6927WARNING:tensorflow:From /home/joel/anaconda3/lib/python3.7/site-packages/tensorflow/python/training/saver.py:966: remove_checkpoint (from tensorflow.python.training.checkpoint_management) is deprecated and will be removed in a future version.\n",
      "Instructions for updating:\n",
      "Use standard file APIs to delete files with this prefix.\n",
      "20000/20000 [==============================] - 88s - loss: 0.2532 - acc: 0.6927 - val_loss: 0.7429 - val_acc: 0.5886\n",
      "Epoch 7/20\n",
      "20000/20000 [==============================] - 89s - loss: 0.2298 - acc: 0.6250 - val_loss: 0.7595 - val_acc: 0.5470\n",
      "Epoch 8/20\n",
      "20000/20000 [==============================] - 89s - loss: 0.1894 - acc: 0.5758 - val_loss: 0.7338 - val_acc: 0.4902\n",
      "Epoch 9/20\n",
      "20000/20000 [==============================] - 84s - loss: 0.1599 - acc: 0.5222 - val_loss: 0.7746 - val_acc: 0.4532\n",
      "Epoch 10/20\n",
      "20000/20000 [==============================] - 89s - loss: 0.1366 - acc: 0.4516 - val_loss: 0.9949 - val_acc: 0.3868\n",
      "Epoch 11/20\n",
      "20000/20000 [==============================] - 79s - loss: 0.1175 - acc: 0.4130 - val_loss: 0.9157 - val_acc: 0.3454\n",
      "Epoch 12/20\n",
      "20000/20000 [==============================] - 79s - loss: 0.1112 - acc: 0.3406 - val_loss: 0.9732 - val_acc: 0.3240\n",
      "Epoch 13/20\n",
      "20000/20000 [==============================] - 79s - loss: 0.1036 - acc: 0.2938 - val_loss: 1.0652 - val_acc: 0.3004\n",
      "Epoch 14/20\n",
      "20000/20000 [==============================] - 96s - loss: 0.1018 - acc: 0.2495 - val_loss: 2.1096 - val_acc: 0.2212\n",
      "Epoch 15/20\n",
      "20000/20000 [==============================] - 104s - loss: 0.1026 - acc: 0.2218 - val_loss: 1.1409 - val_acc: 0.2686\n",
      "Epoch 16/20\n",
      "20000/20000 [==============================] - 86s - loss: 0.0990 - acc: 0.2011 - val_loss: 1.2267 - val_acc: 0.2576\n",
      "Epoch 17/20\n",
      "20000/20000 [==============================] - 81s - loss: 0.0991 - acc: 0.1786 - val_loss: 1.3956 - val_acc: 0.2212\n",
      "Epoch 18/20\n",
      "20000/20000 [==============================] - 82s - loss: 0.0976 - acc: 0.1578 - val_loss: 1.1555 - val_acc: 0.2480\n",
      "Epoch 19/20\n",
      "20000/20000 [==============================] - 96s - loss: 0.0957 - acc: 0.1402 - val_loss: 1.2706 - val_acc: 0.2188\n",
      "Epoch 20/20\n",
      "20000/20000 [==============================] - 96s - loss: 0.0947 - acc: 0.1213 - val_loss: 2.8101 - val_acc: 0.1696\n"
     ]
    }
   ],
   "source": [
    "# training the model with tensorboard callback\n",
    "\n",
    "callbacks = [keras.callbacks.TensorBoard(log_dir='my_log_dir', histogram_freq=1,embeddings_freq=1)]\n",
    "\n",
    "history = model.fit(x_train, y_train, epochs=20, batch_size=128, validation_split=0.2, callbacks=callbacks)"
   ]
  }
 ],
 "metadata": {
  "kernelspec": {
   "display_name": "Python 3",
   "language": "python",
   "name": "python3"
  },
  "language_info": {
   "codemirror_mode": {
    "name": "ipython",
    "version": 3
   },
   "file_extension": ".py",
   "mimetype": "text/x-python",
   "name": "python",
   "nbconvert_exporter": "python",
   "pygments_lexer": "ipython3",
   "version": "3.7.2"
  }
 },
 "nbformat": 4,
 "nbformat_minor": 2
}
